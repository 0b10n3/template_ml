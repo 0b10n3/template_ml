{
 "cells": [
  {
   "cell_type": "markdown",
   "id": "e412686a-9c81-46b1-a7da-3638d5e5b310",
   "metadata": {},
   "source": [
    "# Template Python Notebook"
   ]
  },
  {
   "cell_type": "code",
   "execution_count": 2,
   "id": "2f271407-f66c-4a0c-976f-3dae0c61b905",
   "metadata": {},
   "outputs": [],
   "source": [
    "import pandas as pd\n",
    "import numpy\n"
   ]
  },
  {
   "cell_type": "code",
   "execution_count": null,
   "id": "0647b09b-47ff-480f-8ff8-05a7c48fa457",
   "metadata": {},
   "outputs": [],
   "source": []
  }
 ],
 "metadata": {
  "kernelspec": {
   "display_name": "template_ml",
   "language": "python",
   "name": "template_ml"
  },
  "language_info": {
   "codemirror_mode": {
    "name": "ipython",
    "version": 3
   },
   "file_extension": ".py",
   "mimetype": "text/x-python",
   "name": "python",
   "nbconvert_exporter": "python",
   "pygments_lexer": "ipython3",
   "version": "3.11.6"
  }
 },
 "nbformat": 4,
 "nbformat_minor": 5
}
